{
 "cells": [
  {
   "cell_type": "markdown",
   "id": "05c8dabb",
   "metadata": {},
   "source": [
    "# US Accidents Exploratory data analysis "
   ]
  },
  {
   "cell_type": "markdown",
   "id": "dd9e1c2d",
   "metadata": {},
   "source": [
    "## Data Preparation"
   ]
  },
  {
   "cell_type": "markdown",
   "id": "9a25f9bc",
   "metadata": {},
   "source": [
    "For the preparations lets first import the necessary libraries and load the file needed for our EDA"
   ]
  },
  {
   "cell_type": "code",
   "execution_count": 1,
   "id": "c33babf6",
   "metadata": {},
   "outputs": [],
   "source": [
    "import pandas as pd\n",
    "import numpy as np\n",
    "import matplotlib.pyplot as plt\n",
    "import seaborn as sns\n",
    "%matplotlib inline"
   ]
  },
  {
   "cell_type": "code",
   "execution_count": 2,
   "id": "a9118ec1",
   "metadata": {},
   "outputs": [],
   "source": [
    "data=pd.read_csv(\"C:\\\\Users\\\\ishit\\\\Downloads\\\\archive (1)\\\\US_Accidents_Dec21_updated.csv\")"
   ]
  },
  {
   "cell_type": "code",
   "execution_count": 3,
   "id": "de273a4e",
   "metadata": {},
   "outputs": [
    {
     "data": {
      "text/html": [
       "<div>\n",
       "<style scoped>\n",
       "    .dataframe tbody tr th:only-of-type {\n",
       "        vertical-align: middle;\n",
       "    }\n",
       "\n",
       "    .dataframe tbody tr th {\n",
       "        vertical-align: top;\n",
       "    }\n",
       "\n",
       "    .dataframe thead th {\n",
       "        text-align: right;\n",
       "    }\n",
       "</style>\n",
       "<table border=\"1\" class=\"dataframe\">\n",
       "  <thead>\n",
       "    <tr style=\"text-align: right;\">\n",
       "      <th></th>\n",
       "      <th>ID</th>\n",
       "      <th>Severity</th>\n",
       "      <th>Start_Time</th>\n",
       "      <th>End_Time</th>\n",
       "      <th>Start_Lat</th>\n",
       "      <th>Start_Lng</th>\n",
       "      <th>End_Lat</th>\n",
       "      <th>End_Lng</th>\n",
       "      <th>Distance(mi)</th>\n",
       "      <th>Description</th>\n",
       "      <th>...</th>\n",
       "      <th>Roundabout</th>\n",
       "      <th>Station</th>\n",
       "      <th>Stop</th>\n",
       "      <th>Traffic_Calming</th>\n",
       "      <th>Traffic_Signal</th>\n",
       "      <th>Turning_Loop</th>\n",
       "      <th>Sunrise_Sunset</th>\n",
       "      <th>Civil_Twilight</th>\n",
       "      <th>Nautical_Twilight</th>\n",
       "      <th>Astronomical_Twilight</th>\n",
       "    </tr>\n",
       "  </thead>\n",
       "  <tbody>\n",
       "    <tr>\n",
       "      <th>0</th>\n",
       "      <td>A-1</td>\n",
       "      <td>3</td>\n",
       "      <td>2016-02-08 00:37:08</td>\n",
       "      <td>2016-02-08 06:37:08</td>\n",
       "      <td>40.108910</td>\n",
       "      <td>-83.092860</td>\n",
       "      <td>40.112060</td>\n",
       "      <td>-83.031870</td>\n",
       "      <td>3.230</td>\n",
       "      <td>Between Sawmill Rd/Exit 20 and OH-315/Olentang...</td>\n",
       "      <td>...</td>\n",
       "      <td>False</td>\n",
       "      <td>False</td>\n",
       "      <td>False</td>\n",
       "      <td>False</td>\n",
       "      <td>False</td>\n",
       "      <td>False</td>\n",
       "      <td>Night</td>\n",
       "      <td>Night</td>\n",
       "      <td>Night</td>\n",
       "      <td>Night</td>\n",
       "    </tr>\n",
       "    <tr>\n",
       "      <th>1</th>\n",
       "      <td>A-2</td>\n",
       "      <td>2</td>\n",
       "      <td>2016-02-08 05:56:20</td>\n",
       "      <td>2016-02-08 11:56:20</td>\n",
       "      <td>39.865420</td>\n",
       "      <td>-84.062800</td>\n",
       "      <td>39.865010</td>\n",
       "      <td>-84.048730</td>\n",
       "      <td>0.747</td>\n",
       "      <td>At OH-4/OH-235/Exit 41 - Accident.</td>\n",
       "      <td>...</td>\n",
       "      <td>False</td>\n",
       "      <td>False</td>\n",
       "      <td>False</td>\n",
       "      <td>False</td>\n",
       "      <td>False</td>\n",
       "      <td>False</td>\n",
       "      <td>Night</td>\n",
       "      <td>Night</td>\n",
       "      <td>Night</td>\n",
       "      <td>Night</td>\n",
       "    </tr>\n",
       "    <tr>\n",
       "      <th>2</th>\n",
       "      <td>A-3</td>\n",
       "      <td>2</td>\n",
       "      <td>2016-02-08 06:15:39</td>\n",
       "      <td>2016-02-08 12:15:39</td>\n",
       "      <td>39.102660</td>\n",
       "      <td>-84.524680</td>\n",
       "      <td>39.102090</td>\n",
       "      <td>-84.523960</td>\n",
       "      <td>0.055</td>\n",
       "      <td>At I-71/US-50/Exit 1 - Accident.</td>\n",
       "      <td>...</td>\n",
       "      <td>False</td>\n",
       "      <td>False</td>\n",
       "      <td>False</td>\n",
       "      <td>False</td>\n",
       "      <td>False</td>\n",
       "      <td>False</td>\n",
       "      <td>Night</td>\n",
       "      <td>Night</td>\n",
       "      <td>Night</td>\n",
       "      <td>Day</td>\n",
       "    </tr>\n",
       "    <tr>\n",
       "      <th>3</th>\n",
       "      <td>A-4</td>\n",
       "      <td>2</td>\n",
       "      <td>2016-02-08 06:51:45</td>\n",
       "      <td>2016-02-08 12:51:45</td>\n",
       "      <td>41.062130</td>\n",
       "      <td>-81.537840</td>\n",
       "      <td>41.062170</td>\n",
       "      <td>-81.535470</td>\n",
       "      <td>0.123</td>\n",
       "      <td>At Dart Ave/Exit 21 - Accident.</td>\n",
       "      <td>...</td>\n",
       "      <td>False</td>\n",
       "      <td>False</td>\n",
       "      <td>False</td>\n",
       "      <td>False</td>\n",
       "      <td>False</td>\n",
       "      <td>False</td>\n",
       "      <td>Night</td>\n",
       "      <td>Night</td>\n",
       "      <td>Day</td>\n",
       "      <td>Day</td>\n",
       "    </tr>\n",
       "    <tr>\n",
       "      <th>4</th>\n",
       "      <td>A-5</td>\n",
       "      <td>3</td>\n",
       "      <td>2016-02-08 07:53:43</td>\n",
       "      <td>2016-02-08 13:53:43</td>\n",
       "      <td>39.172393</td>\n",
       "      <td>-84.492792</td>\n",
       "      <td>39.170476</td>\n",
       "      <td>-84.501798</td>\n",
       "      <td>0.500</td>\n",
       "      <td>At Mitchell Ave/Exit 6 - Accident.</td>\n",
       "      <td>...</td>\n",
       "      <td>False</td>\n",
       "      <td>False</td>\n",
       "      <td>False</td>\n",
       "      <td>False</td>\n",
       "      <td>False</td>\n",
       "      <td>False</td>\n",
       "      <td>Day</td>\n",
       "      <td>Day</td>\n",
       "      <td>Day</td>\n",
       "      <td>Day</td>\n",
       "    </tr>\n",
       "  </tbody>\n",
       "</table>\n",
       "<p>5 rows × 47 columns</p>\n",
       "</div>"
      ],
      "text/plain": [
       "    ID  Severity           Start_Time             End_Time  Start_Lat  \\\n",
       "0  A-1         3  2016-02-08 00:37:08  2016-02-08 06:37:08  40.108910   \n",
       "1  A-2         2  2016-02-08 05:56:20  2016-02-08 11:56:20  39.865420   \n",
       "2  A-3         2  2016-02-08 06:15:39  2016-02-08 12:15:39  39.102660   \n",
       "3  A-4         2  2016-02-08 06:51:45  2016-02-08 12:51:45  41.062130   \n",
       "4  A-5         3  2016-02-08 07:53:43  2016-02-08 13:53:43  39.172393   \n",
       "\n",
       "   Start_Lng    End_Lat    End_Lng  Distance(mi)  \\\n",
       "0 -83.092860  40.112060 -83.031870         3.230   \n",
       "1 -84.062800  39.865010 -84.048730         0.747   \n",
       "2 -84.524680  39.102090 -84.523960         0.055   \n",
       "3 -81.537840  41.062170 -81.535470         0.123   \n",
       "4 -84.492792  39.170476 -84.501798         0.500   \n",
       "\n",
       "                                         Description  ...  Roundabout Station  \\\n",
       "0  Between Sawmill Rd/Exit 20 and OH-315/Olentang...  ...       False   False   \n",
       "1                 At OH-4/OH-235/Exit 41 - Accident.  ...       False   False   \n",
       "2                   At I-71/US-50/Exit 1 - Accident.  ...       False   False   \n",
       "3                    At Dart Ave/Exit 21 - Accident.  ...       False   False   \n",
       "4                 At Mitchell Ave/Exit 6 - Accident.  ...       False   False   \n",
       "\n",
       "    Stop Traffic_Calming Traffic_Signal Turning_Loop Sunrise_Sunset  \\\n",
       "0  False           False          False        False          Night   \n",
       "1  False           False          False        False          Night   \n",
       "2  False           False          False        False          Night   \n",
       "3  False           False          False        False          Night   \n",
       "4  False           False          False        False            Day   \n",
       "\n",
       "  Civil_Twilight Nautical_Twilight Astronomical_Twilight  \n",
       "0          Night             Night                 Night  \n",
       "1          Night             Night                 Night  \n",
       "2          Night             Night                   Day  \n",
       "3          Night               Day                   Day  \n",
       "4            Day               Day                   Day  \n",
       "\n",
       "[5 rows x 47 columns]"
      ]
     },
     "execution_count": 3,
     "metadata": {},
     "output_type": "execute_result"
    }
   ],
   "source": [
    "#It shows the first five rows of the data\n",
    "data.head()"
   ]
  },
  {
   "cell_type": "code",
   "execution_count": 4,
   "id": "72a5fe6f",
   "metadata": {},
   "outputs": [
    {
     "data": {
      "text/plain": [
       "Index(['ID', 'Severity', 'Start_Time', 'End_Time', 'Start_Lat', 'Start_Lng',\n",
       "       'End_Lat', 'End_Lng', 'Distance(mi)', 'Description', 'Number', 'Street',\n",
       "       'Side', 'City', 'County', 'State', 'Zipcode', 'Country', 'Timezone',\n",
       "       'Airport_Code', 'Weather_Timestamp', 'Temperature(F)', 'Wind_Chill(F)',\n",
       "       'Humidity(%)', 'Pressure(in)', 'Visibility(mi)', 'Wind_Direction',\n",
       "       'Wind_Speed(mph)', 'Precipitation(in)', 'Weather_Condition', 'Amenity',\n",
       "       'Bump', 'Crossing', 'Give_Way', 'Junction', 'No_Exit', 'Railway',\n",
       "       'Roundabout', 'Station', 'Stop', 'Traffic_Calming', 'Traffic_Signal',\n",
       "       'Turning_Loop', 'Sunrise_Sunset', 'Civil_Twilight', 'Nautical_Twilight',\n",
       "       'Astronomical_Twilight'],\n",
       "      dtype='object')"
      ]
     },
     "execution_count": 4,
     "metadata": {},
     "output_type": "execute_result"
    }
   ],
   "source": [
    "data.columns"
   ]
  },
  {
   "cell_type": "code",
   "execution_count": 5,
   "id": "2563fa4d",
   "metadata": {},
   "outputs": [
    {
     "data": {
      "text/plain": [
       "47"
      ]
     },
     "execution_count": 5,
     "metadata": {},
     "output_type": "execute_result"
    }
   ],
   "source": [
    "len(data.columns)"
   ]
  },
  {
   "cell_type": "markdown",
   "id": "057ad0eb",
   "metadata": {},
   "source": [
    "There are total 47 columns"
   ]
  },
  {
   "cell_type": "code",
   "execution_count": 6,
   "id": "d9e900ce",
   "metadata": {},
   "outputs": [
    {
     "name": "stdout",
     "output_type": "stream",
     "text": [
      "<class 'pandas.core.frame.DataFrame'>\n",
      "RangeIndex: 2845342 entries, 0 to 2845341\n",
      "Data columns (total 47 columns):\n",
      " #   Column                 Dtype  \n",
      "---  ------                 -----  \n",
      " 0   ID                     object \n",
      " 1   Severity               int64  \n",
      " 2   Start_Time             object \n",
      " 3   End_Time               object \n",
      " 4   Start_Lat              float64\n",
      " 5   Start_Lng              float64\n",
      " 6   End_Lat                float64\n",
      " 7   End_Lng                float64\n",
      " 8   Distance(mi)           float64\n",
      " 9   Description            object \n",
      " 10  Number                 float64\n",
      " 11  Street                 object \n",
      " 12  Side                   object \n",
      " 13  City                   object \n",
      " 14  County                 object \n",
      " 15  State                  object \n",
      " 16  Zipcode                object \n",
      " 17  Country                object \n",
      " 18  Timezone               object \n",
      " 19  Airport_Code           object \n",
      " 20  Weather_Timestamp      object \n",
      " 21  Temperature(F)         float64\n",
      " 22  Wind_Chill(F)          float64\n",
      " 23  Humidity(%)            float64\n",
      " 24  Pressure(in)           float64\n",
      " 25  Visibility(mi)         float64\n",
      " 26  Wind_Direction         object \n",
      " 27  Wind_Speed(mph)        float64\n",
      " 28  Precipitation(in)      float64\n",
      " 29  Weather_Condition      object \n",
      " 30  Amenity                bool   \n",
      " 31  Bump                   bool   \n",
      " 32  Crossing               bool   \n",
      " 33  Give_Way               bool   \n",
      " 34  Junction               bool   \n",
      " 35  No_Exit                bool   \n",
      " 36  Railway                bool   \n",
      " 37  Roundabout             bool   \n",
      " 38  Station                bool   \n",
      " 39  Stop                   bool   \n",
      " 40  Traffic_Calming        bool   \n",
      " 41  Traffic_Signal         bool   \n",
      " 42  Turning_Loop           bool   \n",
      " 43  Sunrise_Sunset         object \n",
      " 44  Civil_Twilight         object \n",
      " 45  Nautical_Twilight      object \n",
      " 46  Astronomical_Twilight  object \n",
      "dtypes: bool(13), float64(13), int64(1), object(20)\n",
      "memory usage: 773.4+ MB\n"
     ]
    }
   ],
   "source": [
    "data.info()"
   ]
  },
  {
   "cell_type": "code",
   "execution_count": 7,
   "id": "d99bff50",
   "metadata": {},
   "outputs": [
    {
     "data": {
      "text/plain": [
       "14"
      ]
     },
     "execution_count": 7,
     "metadata": {},
     "output_type": "execute_result"
    }
   ],
   "source": [
    "numerics = ['int16', 'int32', 'int64', 'float16', 'float32', 'float64']\n",
    "len(data.select_dtypes(include=numerics).columns)"
   ]
  },
  {
   "cell_type": "markdown",
   "id": "0e8678b4",
   "metadata": {},
   "source": [
    "There are 14 numerical columns in the dataset"
   ]
  },
  {
   "cell_type": "markdown",
   "id": "82294c5e",
   "metadata": {},
   "source": [
    "Lets see the summary statistics of the columns-"
   ]
  },
  {
   "cell_type": "code",
   "execution_count": 8,
   "id": "f25aed07",
   "metadata": {},
   "outputs": [
    {
     "data": {
      "text/html": [
       "<div>\n",
       "<style scoped>\n",
       "    .dataframe tbody tr th:only-of-type {\n",
       "        vertical-align: middle;\n",
       "    }\n",
       "\n",
       "    .dataframe tbody tr th {\n",
       "        vertical-align: top;\n",
       "    }\n",
       "\n",
       "    .dataframe thead th {\n",
       "        text-align: right;\n",
       "    }\n",
       "</style>\n",
       "<table border=\"1\" class=\"dataframe\">\n",
       "  <thead>\n",
       "    <tr style=\"text-align: right;\">\n",
       "      <th></th>\n",
       "      <th>Severity</th>\n",
       "      <th>Start_Lat</th>\n",
       "      <th>Start_Lng</th>\n",
       "      <th>End_Lat</th>\n",
       "      <th>End_Lng</th>\n",
       "      <th>Distance(mi)</th>\n",
       "      <th>Number</th>\n",
       "      <th>Temperature(F)</th>\n",
       "      <th>Wind_Chill(F)</th>\n",
       "      <th>Humidity(%)</th>\n",
       "      <th>Pressure(in)</th>\n",
       "      <th>Visibility(mi)</th>\n",
       "      <th>Wind_Speed(mph)</th>\n",
       "      <th>Precipitation(in)</th>\n",
       "    </tr>\n",
       "  </thead>\n",
       "  <tbody>\n",
       "    <tr>\n",
       "      <th>count</th>\n",
       "      <td>2.845342e+06</td>\n",
       "      <td>2.845342e+06</td>\n",
       "      <td>2.845342e+06</td>\n",
       "      <td>2.845342e+06</td>\n",
       "      <td>2.845342e+06</td>\n",
       "      <td>2.845342e+06</td>\n",
       "      <td>1.101431e+06</td>\n",
       "      <td>2.776068e+06</td>\n",
       "      <td>2.375699e+06</td>\n",
       "      <td>2.772250e+06</td>\n",
       "      <td>2.786142e+06</td>\n",
       "      <td>2.774796e+06</td>\n",
       "      <td>2.687398e+06</td>\n",
       "      <td>2.295884e+06</td>\n",
       "    </tr>\n",
       "    <tr>\n",
       "      <th>mean</th>\n",
       "      <td>2.137572e+00</td>\n",
       "      <td>3.624520e+01</td>\n",
       "      <td>-9.711463e+01</td>\n",
       "      <td>3.624532e+01</td>\n",
       "      <td>-9.711439e+01</td>\n",
       "      <td>7.026779e-01</td>\n",
       "      <td>8.089408e+03</td>\n",
       "      <td>6.179356e+01</td>\n",
       "      <td>5.965823e+01</td>\n",
       "      <td>6.436545e+01</td>\n",
       "      <td>2.947234e+01</td>\n",
       "      <td>9.099391e+00</td>\n",
       "      <td>7.395044e+00</td>\n",
       "      <td>7.016940e-03</td>\n",
       "    </tr>\n",
       "    <tr>\n",
       "      <th>std</th>\n",
       "      <td>4.787216e-01</td>\n",
       "      <td>5.363797e+00</td>\n",
       "      <td>1.831782e+01</td>\n",
       "      <td>5.363873e+00</td>\n",
       "      <td>1.831763e+01</td>\n",
       "      <td>1.560361e+00</td>\n",
       "      <td>1.836009e+04</td>\n",
       "      <td>1.862263e+01</td>\n",
       "      <td>2.116097e+01</td>\n",
       "      <td>2.287457e+01</td>\n",
       "      <td>1.045286e+00</td>\n",
       "      <td>2.717546e+00</td>\n",
       "      <td>5.527454e+00</td>\n",
       "      <td>9.348831e-02</td>\n",
       "    </tr>\n",
       "    <tr>\n",
       "      <th>min</th>\n",
       "      <td>1.000000e+00</td>\n",
       "      <td>2.456603e+01</td>\n",
       "      <td>-1.245481e+02</td>\n",
       "      <td>2.456601e+01</td>\n",
       "      <td>-1.245457e+02</td>\n",
       "      <td>0.000000e+00</td>\n",
       "      <td>0.000000e+00</td>\n",
       "      <td>-8.900000e+01</td>\n",
       "      <td>-8.900000e+01</td>\n",
       "      <td>1.000000e+00</td>\n",
       "      <td>0.000000e+00</td>\n",
       "      <td>0.000000e+00</td>\n",
       "      <td>0.000000e+00</td>\n",
       "      <td>0.000000e+00</td>\n",
       "    </tr>\n",
       "    <tr>\n",
       "      <th>25%</th>\n",
       "      <td>2.000000e+00</td>\n",
       "      <td>3.344517e+01</td>\n",
       "      <td>-1.180331e+02</td>\n",
       "      <td>3.344628e+01</td>\n",
       "      <td>-1.180333e+02</td>\n",
       "      <td>5.200000e-02</td>\n",
       "      <td>1.270000e+03</td>\n",
       "      <td>5.000000e+01</td>\n",
       "      <td>4.600000e+01</td>\n",
       "      <td>4.800000e+01</td>\n",
       "      <td>2.931000e+01</td>\n",
       "      <td>1.000000e+01</td>\n",
       "      <td>3.500000e+00</td>\n",
       "      <td>0.000000e+00</td>\n",
       "    </tr>\n",
       "    <tr>\n",
       "      <th>50%</th>\n",
       "      <td>2.000000e+00</td>\n",
       "      <td>3.609861e+01</td>\n",
       "      <td>-9.241808e+01</td>\n",
       "      <td>3.609799e+01</td>\n",
       "      <td>-9.241772e+01</td>\n",
       "      <td>2.440000e-01</td>\n",
       "      <td>4.007000e+03</td>\n",
       "      <td>6.400000e+01</td>\n",
       "      <td>6.300000e+01</td>\n",
       "      <td>6.700000e+01</td>\n",
       "      <td>2.982000e+01</td>\n",
       "      <td>1.000000e+01</td>\n",
       "      <td>7.000000e+00</td>\n",
       "      <td>0.000000e+00</td>\n",
       "    </tr>\n",
       "    <tr>\n",
       "      <th>75%</th>\n",
       "      <td>2.000000e+00</td>\n",
       "      <td>4.016024e+01</td>\n",
       "      <td>-8.037243e+01</td>\n",
       "      <td>4.016105e+01</td>\n",
       "      <td>-8.037338e+01</td>\n",
       "      <td>7.640000e-01</td>\n",
       "      <td>9.567000e+03</td>\n",
       "      <td>7.600000e+01</td>\n",
       "      <td>7.600000e+01</td>\n",
       "      <td>8.300000e+01</td>\n",
       "      <td>3.001000e+01</td>\n",
       "      <td>1.000000e+01</td>\n",
       "      <td>1.000000e+01</td>\n",
       "      <td>0.000000e+00</td>\n",
       "    </tr>\n",
       "    <tr>\n",
       "      <th>max</th>\n",
       "      <td>4.000000e+00</td>\n",
       "      <td>4.900058e+01</td>\n",
       "      <td>-6.711317e+01</td>\n",
       "      <td>4.907500e+01</td>\n",
       "      <td>-6.710924e+01</td>\n",
       "      <td>1.551860e+02</td>\n",
       "      <td>9.999997e+06</td>\n",
       "      <td>1.960000e+02</td>\n",
       "      <td>1.960000e+02</td>\n",
       "      <td>1.000000e+02</td>\n",
       "      <td>5.890000e+01</td>\n",
       "      <td>1.400000e+02</td>\n",
       "      <td>1.087000e+03</td>\n",
       "      <td>2.400000e+01</td>\n",
       "    </tr>\n",
       "  </tbody>\n",
       "</table>\n",
       "</div>"
      ],
      "text/plain": [
       "           Severity     Start_Lat     Start_Lng       End_Lat       End_Lng  \\\n",
       "count  2.845342e+06  2.845342e+06  2.845342e+06  2.845342e+06  2.845342e+06   \n",
       "mean   2.137572e+00  3.624520e+01 -9.711463e+01  3.624532e+01 -9.711439e+01   \n",
       "std    4.787216e-01  5.363797e+00  1.831782e+01  5.363873e+00  1.831763e+01   \n",
       "min    1.000000e+00  2.456603e+01 -1.245481e+02  2.456601e+01 -1.245457e+02   \n",
       "25%    2.000000e+00  3.344517e+01 -1.180331e+02  3.344628e+01 -1.180333e+02   \n",
       "50%    2.000000e+00  3.609861e+01 -9.241808e+01  3.609799e+01 -9.241772e+01   \n",
       "75%    2.000000e+00  4.016024e+01 -8.037243e+01  4.016105e+01 -8.037338e+01   \n",
       "max    4.000000e+00  4.900058e+01 -6.711317e+01  4.907500e+01 -6.710924e+01   \n",
       "\n",
       "       Distance(mi)        Number  Temperature(F)  Wind_Chill(F)  \\\n",
       "count  2.845342e+06  1.101431e+06    2.776068e+06   2.375699e+06   \n",
       "mean   7.026779e-01  8.089408e+03    6.179356e+01   5.965823e+01   \n",
       "std    1.560361e+00  1.836009e+04    1.862263e+01   2.116097e+01   \n",
       "min    0.000000e+00  0.000000e+00   -8.900000e+01  -8.900000e+01   \n",
       "25%    5.200000e-02  1.270000e+03    5.000000e+01   4.600000e+01   \n",
       "50%    2.440000e-01  4.007000e+03    6.400000e+01   6.300000e+01   \n",
       "75%    7.640000e-01  9.567000e+03    7.600000e+01   7.600000e+01   \n",
       "max    1.551860e+02  9.999997e+06    1.960000e+02   1.960000e+02   \n",
       "\n",
       "        Humidity(%)  Pressure(in)  Visibility(mi)  Wind_Speed(mph)  \\\n",
       "count  2.772250e+06  2.786142e+06    2.774796e+06     2.687398e+06   \n",
       "mean   6.436545e+01  2.947234e+01    9.099391e+00     7.395044e+00   \n",
       "std    2.287457e+01  1.045286e+00    2.717546e+00     5.527454e+00   \n",
       "min    1.000000e+00  0.000000e+00    0.000000e+00     0.000000e+00   \n",
       "25%    4.800000e+01  2.931000e+01    1.000000e+01     3.500000e+00   \n",
       "50%    6.700000e+01  2.982000e+01    1.000000e+01     7.000000e+00   \n",
       "75%    8.300000e+01  3.001000e+01    1.000000e+01     1.000000e+01   \n",
       "max    1.000000e+02  5.890000e+01    1.400000e+02     1.087000e+03   \n",
       "\n",
       "       Precipitation(in)  \n",
       "count       2.295884e+06  \n",
       "mean        7.016940e-03  \n",
       "std         9.348831e-02  \n",
       "min         0.000000e+00  \n",
       "25%         0.000000e+00  \n",
       "50%         0.000000e+00  \n",
       "75%         0.000000e+00  \n",
       "max         2.400000e+01  "
      ]
     },
     "execution_count": 8,
     "metadata": {},
     "output_type": "execute_result"
    }
   ],
   "source": [
    "data.describe()"
   ]
  },
  {
   "cell_type": "markdown",
   "id": "df2a64e5",
   "metadata": {},
   "source": [
    "The third and final step in the data preparation stage is to look for missing values. Missing values under different columns can add an unwanted skewness to their distribution, making it complicated to analyze. It is always a good practice to filter such values at the very beginning."
   ]
  },
  {
   "cell_type": "code",
   "execution_count": 9,
   "id": "bb900df9",
   "metadata": {},
   "outputs": [
    {
     "data": {
      "text/plain": [
       "Number                   1743911\n",
       "Precipitation(in)         549458\n",
       "Wind_Chill(F)             469643\n",
       "Wind_Speed(mph)           157944\n",
       "Wind_Direction             73775\n",
       "Humidity(%)                73092\n",
       "Weather_Condition          70636\n",
       "Visibility(mi)             70546\n",
       "Temperature(F)             69274\n",
       "Pressure(in)               59200\n",
       "Weather_Timestamp          50736\n",
       "Airport_Code                9549\n",
       "Timezone                    3659\n",
       "Nautical_Twilight           2867\n",
       "Civil_Twilight              2867\n",
       "Sunrise_Sunset              2867\n",
       "Astronomical_Twilight       2867\n",
       "Zipcode                     1319\n",
       "City                         137\n",
       "Street                         2\n",
       "Country                        0\n",
       "Junction                       0\n",
       "Start_Time                     0\n",
       "End_Time                       0\n",
       "Start_Lat                      0\n",
       "Turning_Loop                   0\n",
       "Traffic_Signal                 0\n",
       "Traffic_Calming                0\n",
       "Stop                           0\n",
       "Station                        0\n",
       "Roundabout                     0\n",
       "Railway                        0\n",
       "No_Exit                        0\n",
       "Crossing                       0\n",
       "Give_Way                       0\n",
       "Bump                           0\n",
       "Amenity                        0\n",
       "Start_Lng                      0\n",
       "End_Lat                        0\n",
       "End_Lng                        0\n",
       "Distance(mi)                   0\n",
       "Description                    0\n",
       "Severity                       0\n",
       "Side                           0\n",
       "County                         0\n",
       "State                          0\n",
       "ID                             0\n",
       "dtype: int64"
      ]
     },
     "execution_count": 9,
     "metadata": {},
     "output_type": "execute_result"
    }
   ],
   "source": [
    "# Finding the total number of missing values for each column\n",
    "data.isnull().sum().sort_values(ascending = False)"
   ]
  },
  {
   "cell_type": "code",
   "execution_count": 10,
   "id": "8e2cdc4b",
   "metadata": {},
   "outputs": [],
   "source": [
    "#finding the percentage share of missing values for each column in the entire data\n",
    "missing_percentages=data.isnull().sum().sort_values(ascending=False)/len(data)"
   ]
  },
  {
   "cell_type": "code",
   "execution_count": 11,
   "id": "7d89f223",
   "metadata": {},
   "outputs": [
    {
     "data": {
      "text/plain": [
       "pandas.core.series.Series"
      ]
     },
     "execution_count": 11,
     "metadata": {},
     "output_type": "execute_result"
    }
   ],
   "source": [
    "# missing_percentages is of series type\n",
    "type(missing_percentages)"
   ]
  },
  {
   "cell_type": "code",
   "execution_count": 12,
   "id": "094bd8ab",
   "metadata": {},
   "outputs": [
    {
     "data": {
      "text/plain": [
       "Number                   6.129003e-01\n",
       "Precipitation(in)        1.931079e-01\n",
       "Wind_Chill(F)            1.650568e-01\n",
       "Wind_Speed(mph)          5.550967e-02\n",
       "Wind_Direction           2.592834e-02\n",
       "Humidity(%)              2.568830e-02\n",
       "Weather_Condition        2.482514e-02\n",
       "Visibility(mi)           2.479350e-02\n",
       "Temperature(F)           2.434646e-02\n",
       "Pressure(in)             2.080593e-02\n",
       "Weather_Timestamp        1.783125e-02\n",
       "Airport_Code             3.356011e-03\n",
       "Timezone                 1.285961e-03\n",
       "Nautical_Twilight        1.007612e-03\n",
       "Civil_Twilight           1.007612e-03\n",
       "Sunrise_Sunset           1.007612e-03\n",
       "Astronomical_Twilight    1.007612e-03\n",
       "Zipcode                  4.635647e-04\n",
       "City                     4.814887e-05\n",
       "Street                   7.029032e-07\n",
       "dtype: float64"
      ]
     },
     "execution_count": 12,
     "metadata": {},
     "output_type": "execute_result"
    }
   ],
   "source": [
    "# Remove the ones with zero\n",
    "missing_percentages[missing_percentages!=0]"
   ]
  },
  {
   "cell_type": "markdown",
   "id": "4dd0d305",
   "metadata": {},
   "source": [
    "Let us now see what the above numbers would look like visually. Plotting a horizontal bar chart as-"
   ]
  },
  {
   "cell_type": "code",
   "execution_count": 13,
   "id": "3121f21e",
   "metadata": {},
   "outputs": [
    {
     "data": {
      "text/plain": [
       "<AxesSubplot:>"
      ]
     },
     "execution_count": 13,
     "metadata": {},
     "output_type": "execute_result"
    },
    {
     "data": {
      "image/png": "[encoded data removed]",
      "text/plain": [
       "<Figure size 432x288 with 1 Axes>"
      ]
     },
     "metadata": {
      "needs_background": "light"
     },
     "output_type": "display_data"
    }
   ],
   "source": [
    "missing_percentages[missing_percentages!=0].plot(kind='barh')"
   ]
  },
  {
   "cell_type": "markdown",
   "id": "80f7f5dc",
   "metadata": {},
   "source": [
    "The columns ‘Number’, ‘Precipitation(in)’ and ‘Wind_Chill(F)’ have the most missing values (40–60% of the data). It is wise to either remove the columns altogether or exclude them from the ensuing analysis."
   ]
  },
  {
   "cell_type": "markdown",
   "id": "83384093",
   "metadata": {},
   "source": [
    "## EDA and Data visualization"
   ]
  },
  {
   "cell_type": "markdown",
   "id": "5ae967c2",
   "metadata": {},
   "source": [
    "Once the data is cleaned and prepped for analysis, we take some of the columns and apply statistical methods to see the underlying picture come to the surface. The following columns have been analyzed in this project-\n",
    "State,\n",
    "City,\n",
    "Start Time,\n",
    "Temperature,\n",
    "Weather Condition,\n",
    "Traffic Signal\n",
    "and Bump"
   ]
  },
  {
   "cell_type": "markdown",
   "id": "4d046b0d",
   "metadata": {},
   "source": [
    "#### State"
   ]
  },
  {
   "cell_type": "markdown",
   "id": "3a659dff",
   "metadata": {},
   "source": [
    "The column lists down the name of the US state found in the address of the accident. We want to see the top 10 states by the number of accidents."
   ]
  },
  {
   "cell_type": "code",
   "execution_count": 14,
   "id": "e48b293d",
   "metadata": {},
   "outputs": [
    {
     "data": {
      "text/plain": [
       "0          OH\n",
       "1          OH\n",
       "2          OH\n",
       "3          OH\n",
       "4          OH\n",
       "           ..\n",
       "2845337    CA\n",
       "2845338    CA\n",
       "2845339    CA\n",
       "2845340    CA\n",
       "2845341    CA\n",
       "Name: State, Length: 2845342, dtype: object"
      ]
     },
     "execution_count": 14,
     "metadata": {},
     "output_type": "execute_result"
    }
   ],
   "source": [
    "data.State"
   ]
  },
  {
   "cell_type": "code",
   "execution_count": 15,
   "id": "0c3882e9",
   "metadata": {},
   "outputs": [
    {
     "data": {
      "text/plain": [
       "49"
      ]
     },
     "execution_count": 15,
     "metadata": {},
     "output_type": "execute_result"
    }
   ],
   "source": [
    "len(data.State.unique())"
   ]
  },
  {
   "cell_type": "markdown",
   "id": "59b3e5c4",
   "metadata": {},
   "source": [
    "Let’s look at the top ten states by the number of accidents. To do this, we need the absolute number of accidents against each state."
   ]
  },
  {
   "cell_type": "code",
   "execution_count": 16,
   "id": "bff51795",
   "metadata": {},
   "outputs": [
    {
     "data": {
      "text/plain": [
       "CA    795868\n",
       "FL    401388\n",
       "TX    149037\n",
       "OR    126341\n",
       "VA    113535\n",
       "NY    108049\n",
       "PA     99975\n",
       "MN     97185\n",
       "NC     91362\n",
       "SC     89216\n",
       "Name: State, dtype: int64"
      ]
     },
     "execution_count": 16,
     "metadata": {},
     "output_type": "execute_result"
    }
   ],
   "source": [
    "accident_by_states=data.State.value_counts()\n",
    "accident_by_states[:10]"
   ]
  },
  {
   "cell_type": "markdown",
   "id": "51f137bd",
   "metadata": {},
   "source": [
    "we plot a horizontal bar chart for the top ten states-"
   ]
  },
  {
   "cell_type": "code",
   "execution_count": 17,
   "id": "c80a6566",
   "metadata": {},
   "outputs": [
    {
     "data": {
      "text/plain": [
       "<AxesSubplot:>"
      ]
     },
     "execution_count": 17,
     "metadata": {},
     "output_type": "execute_result"
    },
    {
     "data": {
      "image/png": "[encoded data removed]",
      "text/plain": [
       "<Figure size 432x288 with 1 Axes>"
      ]
     },
     "metadata": {
      "needs_background": "light"
     },
     "output_type": "display_data"
    }
   ],
   "source": [
    "accident_by_states[:10].plot(kind='barh')"
   ]
  },
  {
   "cell_type": "raw",
   "id": "d1ea52fa",
   "metadata": {},
   "source": [
    "Clearly, a significant number of accidents have happened in California, Florida, Texas, Oregon, Virginia and New York."
   ]
  },
  {
   "cell_type": "markdown",
   "id": "fc93e038",
   "metadata": {},
   "source": [
    "### City"
   ]
  },
  {
   "cell_type": "markdown",
   "id": "9a755a68",
   "metadata": {},
   "source": [
    "The column lists the name of the city in the address record. Let us now check how many cities of the top ten states above feature in the top 30 cities by accidents."
   ]
  },
  {
   "cell_type": "code",
   "execution_count": null,
   "id": "7bfe6f36",
   "metadata": {},
   "outputs": [],
   "source": [
    "data.City"
   ]
  },
  {
   "cell_type": "code",
   "execution_count": null,
   "id": "290a7c92",
   "metadata": {},
   "outputs": [],
   "source": [
    "len(data.City.unique())"
   ]
  },
  {
   "cell_type": "markdown",
   "id": "b243e764",
   "metadata": {},
   "source": [
    "The total number of cities are 11,790."
   ]
  },
  {
   "cell_type": "code",
   "execution_count": 18,
   "id": "3edce7fd",
   "metadata": {},
   "outputs": [
    {
     "data": {
      "text/plain": [
       "Miami                           106966\n",
       "Los Angeles                      68956\n",
       "Orlando                          54691\n",
       "Dallas                           41979\n",
       "Houston                          39448\n",
       "                                 ...  \n",
       "Ridgedale                            1\n",
       "Sekiu                                1\n",
       "Wooldridge                           1\n",
       "Bullock                              1\n",
       "American Fork-Pleasant Grove         1\n",
       "Name: City, Length: 11681, dtype: int64"
      ]
     },
     "execution_count": 18,
     "metadata": {},
     "output_type": "execute_result"
    }
   ],
   "source": [
    "accidents_by_cities=data.City.value_counts()\n",
    "accidents_by_cities"
   ]
  },
  {
   "cell_type": "markdown",
   "id": "9961dcbe",
   "metadata": {},
   "source": [
    "The top cities include Miami,Los Angeles, Orlando, Dallas, Houston, Charlotte, etc. Let’s visualize the top 30 cities and see how many belong to the top ten states."
   ]
  },
  {
   "cell_type": "code",
   "execution_count": 19,
   "id": "cf3067dc",
   "metadata": {},
   "outputs": [
    {
     "data": {
      "text/plain": [
       "<AxesSubplot:>"
      ]
     },
     "execution_count": 19,
     "metadata": {},
     "output_type": "execute_result"
    },
    {
     "data": {
      "image/png": "[encoded data removed]",
      "text/plain": [
       "<Figure size 432x288 with 1 Axes>"
      ]
     },
     "metadata": {
      "needs_background": "light"
     },
     "output_type": "display_data"
    }
   ],
   "source": [
    "accidents_by_cities[:20].plot(kind='barh')"
   ]
  },
  {
   "cell_type": "markdown",
   "id": "1a0e6925",
   "metadata": {},
   "source": [
    "There is quite a lot of presence of cities from California (LA, Sacramento, San Diego, Jacksonville), followed by Texas (Houston, Dallas, Austin), Florida (Miami, Orlando), and North Carolina (Charlotte, Raleigh). followed by Minnesota(minneapolis)\n",
    "followed by Oregon(Portland)"
   ]
  },
  {
   "cell_type": "code",
   "execution_count": 20,
   "id": "48cf647a",
   "metadata": {},
   "outputs": [
    {
     "data": {
      "text/plain": [
       "<AxesSubplot:xlabel='City', ylabel='Count'>"
      ]
     },
     "execution_count": 20,
     "metadata": {},
     "output_type": "execute_result"
    },
    {
     "data": {
      "image/png": "[encoded data removed]",
      "text/plain": [
       "<Figure size 432x288 with 1 Axes>"
      ]
     },
     "metadata": {
      "needs_background": "light"
     },
     "output_type": "display_data"
    }
   ],
   "source": [
    "sns.histplot(accidents_by_cities, log_scale=True)"
   ]
  },
  {
   "cell_type": "markdown",
   "id": "89fa24b9",
   "metadata": {},
   "source": [
    "Over 1200 cities have reported only one accident during the entire period. This could either be very good news or it could be a result of missing data. Let’s break cities by accidents into two groups and see their respective distributions-"
   ]
  },
  {
   "cell_type": "markdown",
   "id": "c4a1eca9",
   "metadata": {},
   "source": [
    "1.High accident cities where the number of accidents is greater and equal to 1000"
   ]
  },
  {
   "cell_type": "code",
   "execution_count": 23,
   "id": "593a93c3",
   "metadata": {},
   "outputs": [
    {
     "data": {
      "text/plain": [
       "4.245848313644924"
      ]
     },
     "execution_count": 23,
     "metadata": {},
     "output_type": "execute_result"
    }
   ],
   "source": [
    "high_accident_cities=accidents_by_cities[accidents_by_cities>=1000]\n",
    "percentage_high_accident_cities=len(high_accident_cities)/len(data.City.unique())*100\n",
    "percentage_high_accident_cities"
   ]
  },
  {
   "cell_type": "markdown",
   "id": "63fd06c6",
   "metadata": {},
   "source": [
    "Low accident cities where the number is less than 1000."
   ]
  },
  {
   "cell_type": "code",
   "execution_count": 25,
   "id": "0724d353",
   "metadata": {},
   "outputs": [
    {
     "data": {
      "text/plain": [
       "95.74559150830338"
      ]
     },
     "execution_count": 25,
     "metadata": {},
     "output_type": "execute_result"
    }
   ],
   "source": [
    "low_accident_cities=accidents_by_cities[accidents_by_cities<1000]\n",
    "percentage_low_accident_cities=len(low_accident_cities)/len(data.City.unique())*100\n",
    "percentage_low_accident_cities"
   ]
  },
  {
   "cell_type": "markdown",
   "id": "687267d6",
   "metadata": {},
   "source": [
    "4.35% of the total number of cities have an accident number greater than 1000."
   ]
  },
  {
   "cell_type": "markdown",
   "id": "cdc00443",
   "metadata": {},
   "source": [
    "The distribution of high accident cities -"
   ]
  },
  {
   "cell_type": "code",
   "execution_count": 26,
   "id": "f95b5be6",
   "metadata": {},
   "outputs": [
    {
     "data": {
      "text/plain": [
       "<AxesSubplot:xlabel='City', ylabel='Count'>"
      ]
     },
     "execution_count": 26,
     "metadata": {},
     "output_type": "execute_result"
    },
    {
     "data": {
      "image/png": "[encoded data removed]",
      "text/plain": [
       "<Figure size 432x288 with 1 Axes>"
      ]
     },
     "metadata": {
      "needs_background": "light"
     },
     "output_type": "display_data"
    }
   ],
   "source": [
    "sns.histplot(high_accident_cities,log_scale = True) "
   ]
  },
  {
   "cell_type": "markdown",
   "id": "1ca2e004",
   "metadata": {},
   "source": [
    "Less than 150 cities (out of 11,790) reported more than 1000 accidents during the period between February 2016 and December 2020. Similarly, the cities with the low number of accidents are picturized as-"
   ]
  },
  {
   "cell_type": "code",
   "execution_count": 27,
   "id": "5a421196",
   "metadata": {},
   "outputs": [
    {
     "data": {
      "text/plain": [
       "<AxesSubplot:xlabel='City', ylabel='Count'>"
      ]
     },
     "execution_count": 27,
     "metadata": {},
     "output_type": "execute_result"
    },
    {
     "data": {
      "image/png": "[encoded data removed]",
      "text/plain": [
       "<Figure size 432x288 with 1 Axes>"
      ]
     },
     "metadata": {
      "needs_background": "light"
     },
     "output_type": "display_data"
    }
   ],
   "source": [
    "sns.histplot(low_accident_cities, log_scale = True) "
   ]
  },
  {
   "cell_type": "markdown",
   "id": "b4226547",
   "metadata": {},
   "source": [
    "Over 1200 cities have had just one accident in 4years- needs further investigation.\n",
    "\n",
    "The majority of them have witnessed between 10–100 accidents during the period.\n",
    "\n",
    "Accidents by cities follow an exponentially decreasing distribution."
   ]
  },
  {
   "cell_type": "markdown",
   "id": "2ae610b4",
   "metadata": {},
   "source": [
    "# Start time"
   ]
  },
  {
   "cell_type": "markdown",
   "id": "79926a79",
   "metadata": {},
   "source": [
    "This column records the start time of the accident in the local time zone."
   ]
  },
  {
   "cell_type": "code",
   "execution_count": 28,
   "id": "ee286a46",
   "metadata": {},
   "outputs": [
    {
     "data": {
      "text/plain": [
       "0          2016-02-08 00:37:08\n",
       "1          2016-02-08 05:56:20\n",
       "2          2016-02-08 06:15:39\n",
       "3          2016-02-08 06:51:45\n",
       "4          2016-02-08 07:53:43\n",
       "                  ...         \n",
       "2845337    2019-08-23 18:03:25\n",
       "2845338    2019-08-23 19:11:30\n",
       "2845339    2019-08-23 19:00:21\n",
       "2845340    2019-08-23 19:00:21\n",
       "2845341    2019-08-23 18:52:06\n",
       "Name: Start_Time, Length: 2845342, dtype: object"
      ]
     },
     "execution_count": 28,
     "metadata": {},
     "output_type": "execute_result"
    }
   ],
   "source": [
    "data.Start_Time"
   ]
  },
  {
   "cell_type": "markdown",
   "id": "901ce29c",
   "metadata": {},
   "source": [
    "Convert the string to Timestamp format using the following-"
   ]
  },
  {
   "cell_type": "code",
   "execution_count": 29,
   "id": "ed2a27c3",
   "metadata": {},
   "outputs": [],
   "source": [
    "data_Start_Time=pd.to_datetime(data.Start_Time)"
   ]
  },
  {
   "cell_type": "markdown",
   "id": "a75a360b",
   "metadata": {},
   "source": [
    "We want to know what time of the day witnesses more accidents. To do this, we pull the hour from the timestamp format above-"
   ]
  },
  {
   "cell_type": "code",
   "execution_count": 30,
   "id": "3802592c",
   "metadata": {},
   "outputs": [
    {
     "data": {
      "text/plain": [
       "0           0\n",
       "1           5\n",
       "2           6\n",
       "3           6\n",
       "4           7\n",
       "           ..\n",
       "2845337    18\n",
       "2845338    19\n",
       "2845339    19\n",
       "2845340    19\n",
       "2845341    18\n",
       "Name: Start_Time, Length: 2845342, dtype: int64"
      ]
     },
     "execution_count": 30,
     "metadata": {},
     "output_type": "execute_result"
    }
   ],
   "source": [
    "#extract hour from timestamp\n",
    "data_Start_Time.dt.hour"
   ]
  },
  {
   "cell_type": "markdown",
   "id": "5c0aedd9",
   "metadata": {},
   "source": [
    "Now, we plot the distribution-"
   ]
  },
  {
   "cell_type": "code",
   "execution_count": 31,
   "id": "9d6b16f6",
   "metadata": {},
   "outputs": [
    {
     "data": {
      "text/plain": [
       "<AxesSubplot:xlabel='Start_Time', ylabel='Count'>"
      ]
     },
     "execution_count": 31,
     "metadata": {},
     "output_type": "execute_result"
    },
    {
     "data": {
      "image/png": "[encoded data removed]",
      "text/plain": [
       "<Figure size 432x288 with 1 Axes>"
      ]
     },
     "metadata": {
      "needs_background": "light"
     },
     "output_type": "display_data"
    }
   ],
   "source": [
    "sns.histplot(data_Start_Time.dt.hour,bins=24, kde=False)"
   ]
  },
  {
   "cell_type": "markdown",
   "id": "3df69914",
   "metadata": {},
   "source": [
    "There are two peaks of time- one in the morning in between 6 am to 9 am and another between 3 pm and 6 pm. This is consistent with the assumption that rush hours in the morning and evening could lead to more accidents."
   ]
  },
  {
   "cell_type": "markdown",
   "id": "668a5f88",
   "metadata": {},
   "source": [
    "Does this trend apply on weekends too? Let us do a Monday and Sunday comparison."
   ]
  },
  {
   "cell_type": "code",
   "execution_count": 88,
   "id": "9e119fb6",
   "metadata": {},
   "outputs": [
    {
     "data": {
      "text/plain": [
       "<AxesSubplot:xlabel='Start_Time', ylabel='Count'>"
      ]
     },
     "execution_count": 88,
     "metadata": {},
     "output_type": "execute_result"
    },
    {
     "data": {
      "image/png": "[encoded data removed]",
      "text/plain": [
       "<Figure size 432x288 with 1 Axes>"
      ]
     },
     "metadata": {
      "needs_background": "light"
     },
     "output_type": "display_data"
    }
   ],
   "source": [
    "#pull the day of the week from the timestamp format\n",
    "monday_start_time = data_Start_Time[data_Start_Time.dt.weekday == 0]\n",
    "#plot the distribution\n",
    "sns.histplot(monday_start_time.dt.hour, bins = 24, kde=False)"
   ]
  },
  {
   "cell_type": "code",
   "execution_count": 89,
   "id": "ec5d021e",
   "metadata": {},
   "outputs": [
    {
     "data": {
      "text/plain": [
       "<AxesSubplot:xlabel='Start_Time', ylabel='Count'>"
      ]
     },
     "execution_count": 89,
     "metadata": {},
     "output_type": "execute_result"
    },
    {
     "data": {
      "image/png": "[encoded data removed]",
      "text/plain": [
       "<Figure size 432x288 with 1 Axes>"
      ]
     },
     "metadata": {
      "needs_background": "light"
     },
     "output_type": "display_data"
    }
   ],
   "source": [
    "Sunday_Start_Time=data_Start_Time[data_Start_Time.dt.weekday==6]\n",
    "sns.histplot(Sunday_Start_Time.dt.hour,bins=24)"
   ]
  },
  {
   "cell_type": "markdown",
   "id": "43d443b3",
   "metadata": {},
   "source": [
    "While Monday follows the general 24-hour pattern- two peaks coinciding with work rush; the distribution for Sunday sees a peak between 12 pm and 7 pm. This could be due to people going out for leisurely activities on Sundays."
   ]
  },
  {
   "cell_type": "markdown",
   "id": "f55b7e7f",
   "metadata": {},
   "source": [
    "We want to know what day of the week witnesses more accidents. we plot the distribution-\n"
   ]
  },
  {
   "cell_type": "code",
   "execution_count": 90,
   "id": "754ba593",
   "metadata": {},
   "outputs": [
    {
     "data": {
      "text/plain": [
       "<AxesSubplot:xlabel='Start_Time', ylabel='Count'>"
      ]
     },
     "execution_count": 90,
     "metadata": {},
     "output_type": "execute_result"
    },
    {
     "data": {
      "image/png": "[encoded data removed]",
      "text/plain": [
       "<Figure size 432x288 with 1 Axes>"
      ]
     },
     "metadata": {
      "needs_background": "light"
     },
     "output_type": "display_data"
    }
   ],
   "source": [
    "sns.histplot(data_Start_Time.dt.weekday,bins=7)"
   ]
  },
  {
   "cell_type": "markdown",
   "id": "710658e3",
   "metadata": {},
   "source": [
    "We can see that weekdays witnesses more accidents."
   ]
  },
  {
   "cell_type": "markdown",
   "id": "4ae64b68",
   "metadata": {},
   "source": [
    "Lets plot for the monthly distribution of accidents."
   ]
  },
  {
   "cell_type": "code",
   "execution_count": 65,
   "id": "01576b3f",
   "metadata": {},
   "outputs": [
    {
     "data": {
      "text/plain": [
       "<AxesSubplot:xlabel='Start_Time', ylabel='Count'>"
      ]
     },
     "execution_count": 65,
     "metadata": {},
     "output_type": "execute_result"
    },
    {
     "data": {
      "image/png": "[encoded data removed]",
      "text/plain": [
       "<Figure size 432x288 with 1 Axes>"
      ]
     },
     "metadata": {
      "needs_background": "light"
     },
     "output_type": "display_data"
    }
   ],
   "source": [
    "sns.histplot(df_Start_Time.dt.month,bins=12)"
   ]
  },
  {
   "cell_type": "markdown",
   "id": "70a6e1b6",
   "metadata": {},
   "source": [
    "we can see that there seems to be a steady upward curve from the second half of the year, as shown below"
   ]
  },
  {
   "cell_type": "markdown",
   "id": "cf2198b1",
   "metadata": {},
   "source": [
    "This could possibly be due to summer break and then the new school term around August-September. But does this hold for all the years under consideration? Let’s look at 2016-"
   ]
  },
  {
   "cell_type": "code",
   "execution_count": 66,
   "id": "f28024ee",
   "metadata": {},
   "outputs": [
    {
     "data": {
      "text/plain": [
       "<AxesSubplot:xlabel='Start_Time', ylabel='Count'>"
      ]
     },
     "execution_count": 66,
     "metadata": {},
     "output_type": "execute_result"
    },
    {
     "data": {
      "image/png": "[encoded data removed]",
      "text/plain": [
       "<Figure size 432x288 with 1 Axes>"
      ]
     },
     "metadata": {
      "needs_background": "light"
     },
     "output_type": "display_data"
    }
   ],
   "source": [
    "year_2016=data_Start_Time[data_Start_Time.dt.year==2016]\n",
    "sns.histplot(year_2016.dt.month,bins=12)"
   ]
  },
  {
   "cell_type": "markdown",
   "id": "8ffefb11",
   "metadata": {},
   "source": [
    "Clearly, there is data missing for the month of January (data was collected from February 2016) and July."
   ]
  },
  {
   "cell_type": "code",
   "execution_count": 68,
   "id": "26968c6b",
   "metadata": {},
   "outputs": [
    {
     "data": {
      "text/plain": [
       "<AxesSubplot:xlabel='Start_Time', ylabel='Count'>"
      ]
     },
     "execution_count": 68,
     "metadata": {},
     "output_type": "execute_result"
    },
    {
     "data": {
      "image/png": "[encoded data removed]",
      "text/plain": [
       "<Figure size 432x288 with 1 Axes>"
      ]
     },
     "metadata": {
      "needs_background": "light"
     },
     "output_type": "display_data"
    }
   ],
   "source": [
    "year_2017=df_Start_Time[df_Start_Time.dt.year==2017]\n",
    "sns.histplot(year_2017.dt.month,bins=12)"
   ]
  },
  {
   "cell_type": "code",
   "execution_count": 69,
   "id": "ae0bfda2",
   "metadata": {},
   "outputs": [
    {
     "data": {
      "text/plain": [
       "<AxesSubplot:xlabel='Start_Time', ylabel='Count'>"
      ]
     },
     "execution_count": 69,
     "metadata": {},
     "output_type": "execute_result"
    },
    {
     "data": {
      "image/png": "[encoded data removed]",
      "text/plain": [
       "<Figure size 432x288 with 1 Axes>"
      ]
     },
     "metadata": {
      "needs_background": "light"
     },
     "output_type": "display_data"
    }
   ],
   "source": [
    "year_2018=df_Start_Time[df_Start_Time.dt.year==2018]\n",
    "sns.histplot(year_2018.dt.month,bins=12)"
   ]
  },
  {
   "cell_type": "code",
   "execution_count": 70,
   "id": "f26f39d4",
   "metadata": {},
   "outputs": [
    {
     "data": {
      "text/plain": [
       "<AxesSubplot:xlabel='Start_Time', ylabel='Count'>"
      ]
     },
     "execution_count": 70,
     "metadata": {},
     "output_type": "execute_result"
    },
    {
     "data": {
      "image/png": "[encoded data removed]",
      "text/plain": [
       "<Figure size 432x288 with 1 Axes>"
      ]
     },
     "metadata": {
      "needs_background": "light"
     },
     "output_type": "display_data"
    }
   ],
   "source": [
    "year_2019=df_Start_Time[df_Start_Time.dt.year==2019]\n",
    "sns.histplot(year_2019.dt.month,bins=12)"
   ]
  },
  {
   "cell_type": "code",
   "execution_count": 71,
   "id": "4fe31bd5",
   "metadata": {},
   "outputs": [
    {
     "data": {
      "text/plain": [
       "<AxesSubplot:xlabel='Start_Time', ylabel='Count'>"
      ]
     },
     "execution_count": 71,
     "metadata": {},
     "output_type": "execute_result"
    },
    {
     "data": {
      "image/png": "[encoded data removed]",
      "text/plain": [
       "<Figure size 432x288 with 1 Axes>"
      ]
     },
     "metadata": {
      "needs_background": "light"
     },
     "output_type": "display_data"
    }
   ],
   "source": [
    "year_2020=df_Start_Time[df_Start_Time.dt.year==2020]\n",
    "sns.histplot(year_2020.dt.month,bins=12)"
   ]
  },
  {
   "cell_type": "markdown",
   "id": "183dd203",
   "metadata": {},
   "source": [
    "Clearly, there is data missing for the month of July and august (data was collected from February 2016) and July."
   ]
  },
  {
   "cell_type": "code",
   "execution_count": 72,
   "id": "2838b9ac",
   "metadata": {},
   "outputs": [
    {
     "data": {
      "text/plain": [
       "<AxesSubplot:xlabel='Start_Time', ylabel='Count'>"
      ]
     },
     "execution_count": 72,
     "metadata": {},
     "output_type": "execute_result"
    },
    {
     "data": {
      "image/png": "[encoded data removed]",
      "text/plain": [
       "<Figure size 432x288 with 1 Axes>"
      ]
     },
     "metadata": {
      "needs_background": "light"
     },
     "output_type": "display_data"
    }
   ],
   "source": [
    "year_2021=df_Start_Time[df_Start_Time.dt.year==2021]\n",
    "sns.histplot(year_2021.dt.month,bins=12)"
   ]
  },
  {
   "cell_type": "markdown",
   "id": "1c4de183",
   "metadata": {},
   "source": [
    "The overall picture tells us that the number of accidents recorded are higher in december. But we also have to take into consideration the significant numbers missing.So, the overall picture might be misleading. It could also be attributed to data mismatch if the sources of the collection are varied. This would need further investigation."
   ]
  },
  {
   "cell_type": "markdown",
   "id": "6f32f072",
   "metadata": {},
   "source": [
    "### Temperature"
   ]
  },
  {
   "cell_type": "markdown",
   "id": "72a8d309",
   "metadata": {},
   "source": [
    "This column recorded temperature at the time of the accident in degrees Fahrenheit."
   ]
  },
  {
   "cell_type": "code",
   "execution_count": 91,
   "id": "f381989f",
   "metadata": {},
   "outputs": [
    {
     "data": {
      "text/plain": [
       " 73.0     64505\n",
       " 77.0     63575\n",
       " 75.0     60534\n",
       " 72.0     59681\n",
       " 68.0     58557\n",
       "          ...  \n",
       " 109.8        1\n",
       "-9.8          1\n",
       " 170.6        1\n",
       " 107.2        1\n",
       " 99.1         1\n",
       "Name: Temperature(F), Length: 788, dtype: int64"
      ]
     },
     "execution_count": 91,
     "metadata": {},
     "output_type": "execute_result"
    }
   ],
   "source": [
    "#pull out the column with its frequency distribution\n",
    "data['Temperature(F)'].value_counts()"
   ]
  },
  {
   "cell_type": "markdown",
   "id": "e5e0354b",
   "metadata": {},
   "source": [
    "Let’s visualize the above in a boxplot-"
   ]
  },
  {
   "cell_type": "code",
   "execution_count": 101,
   "id": "4ce8a7c3",
   "metadata": {},
   "outputs": [
    {
     "data": {
      "text/plain": [
       "<AxesSubplot:xlabel='Temperature(F)'>"
      ]
     },
     "execution_count": 101,
     "metadata": {},
     "output_type": "execute_result"
    },
    {
     "data": {
      "image/png": "[encoded data removed]",
      "text/plain": [
       "<Figure size 432x288 with 1 Axes>"
      ]
     },
     "metadata": {
      "needs_background": "light"
     },
     "output_type": "display_data"
    }
   ],
   "source": [
    "sns.boxenplot(x=data['Temperature(F)'])"
   ]
  },
  {
   "cell_type": "markdown",
   "id": "babdd095",
   "metadata": {},
   "source": [
    "So, a chunk of the accidents happens to be in areas experiencing temperatures in the range of (50–60) degrees Fahrenheit. Most accidents occur in colder weather or regions."
   ]
  },
  {
   "cell_type": "markdown",
   "id": "1d6027c7",
   "metadata": {},
   "source": [
    "### Weather"
   ]
  },
  {
   "cell_type": "markdown",
   "id": "8cea4e94",
   "metadata": {},
   "source": [
    "This column has the description of the weather condition at the time of the accident, such as, “Fair”, “Cloudy”, “Clear” etc."
   ]
  },
  {
   "cell_type": "code",
   "execution_count": 32,
   "id": "800bac05",
   "metadata": {},
   "outputs": [
    {
     "data": {
      "text/plain": [
       "Fair                        1107194\n",
       "Mostly Cloudy                363959\n",
       "Cloudy                       348767\n",
       "Partly Cloudy                249939\n",
       "Clear                        173823\n",
       "                             ...   \n",
       "Sleet / Windy                     1\n",
       "Mist / Windy                      1\n",
       "Blowing Sand                      1\n",
       "Heavy Freezing Rain               1\n",
       "Thunder and Hail / Windy          1\n",
       "Name: Weather_Condition, Length: 127, dtype: int64"
      ]
     },
     "execution_count": 32,
     "metadata": {},
     "output_type": "execute_result"
    }
   ],
   "source": [
    "#pull out the column with its frequency distribution\n",
    "data.Weather_Condition.value_counts()"
   ]
  },
  {
   "cell_type": "markdown",
   "id": "185848c0",
   "metadata": {},
   "source": [
    "Let’s visualize it-"
   ]
  },
  {
   "cell_type": "code",
   "execution_count": 33,
   "id": "6f220dab",
   "metadata": {},
   "outputs": [
    {
     "data": {
      "text/plain": [
       "<AxesSubplot:>"
      ]
     },
     "execution_count": 33,
     "metadata": {},
     "output_type": "execute_result"
    },
    {
     "data": {
      "image/png": "[encoded data removed]",
      "text/plain": [
       "<Figure size 432x288 with 1 Axes>"
      ]
     },
     "metadata": {
      "needs_background": "light"
     },
     "output_type": "display_data"
    }
   ],
   "source": [
    "data.Weather_Condition.value_counts()[:15].plot(kind='barh')"
   ]
  },
  {
   "cell_type": "markdown",
   "id": "842329cf",
   "metadata": {},
   "source": [
    "Most accidents occured in “Fair”, followed by “Mostly Cloudy” and “Cloudy” sky."
   ]
  },
  {
   "cell_type": "markdown",
   "id": "690f14cb",
   "metadata": {},
   "source": [
    "### Traffic signal"
   ]
  },
  {
   "cell_type": "markdown",
   "id": "7ba8f1e1",
   "metadata": {},
   "source": [
    "A binary column indicating the presence of a traffic signal nearby the spot of the accident."
   ]
  },
  {
   "cell_type": "code",
   "execution_count": 34,
   "id": "b8d4bd4e",
   "metadata": {},
   "outputs": [
    {
     "data": {
      "text/plain": [
       "0          False\n",
       "1          False\n",
       "2          False\n",
       "3          False\n",
       "4          False\n",
       "           ...  \n",
       "2845337    False\n",
       "2845338    False\n",
       "2845339    False\n",
       "2845340    False\n",
       "2845341    False\n",
       "Name: Traffic_Signal, Length: 2845342, dtype: bool"
      ]
     },
     "execution_count": 34,
     "metadata": {},
     "output_type": "execute_result"
    }
   ],
   "source": [
    "data['Traffic_Signal']"
   ]
  },
  {
   "cell_type": "markdown",
   "id": "2450081b",
   "metadata": {},
   "source": [
    "Lets visualize it using pie chart.“True” and “False” values is best visualized in a pie-chart-"
   ]
  },
  {
   "cell_type": "code",
   "execution_count": 35,
   "id": "0a89121b",
   "metadata": {},
   "outputs": [
    {
     "data": {
      "text/plain": [
       "<AxesSubplot:ylabel='Traffic_Signal'>"
      ]
     },
     "execution_count": 35,
     "metadata": {},
     "output_type": "execute_result"
    },
    {
     "data": {
      "image/png": "[encoded data removed]",
      "text/plain": [
       "<Figure size 432x288 with 1 Axes>"
      ]
     },
     "metadata": {},
     "output_type": "display_data"
    }
   ],
   "source": [
    "data['Traffic_Signal'].value_counts().plot(kind='pie')"
   ]
  },
  {
   "cell_type": "markdown",
   "id": "9d3fdb13",
   "metadata": {},
   "source": [
    "Clearly, poor traffic management is a cause for the chunk of the accidents."
   ]
  },
  {
   "cell_type": "markdown",
   "id": "a7e0b692",
   "metadata": {},
   "source": [
    "### Bump"
   ]
  },
  {
   "cell_type": "markdown",
   "id": "7c3b6401",
   "metadata": {},
   "source": [
    "A binary column indicating the presence of a speed bump nearby the spot of the accident. "
   ]
  },
  {
   "cell_type": "code",
   "execution_count": 36,
   "id": "4d8e6bfc",
   "metadata": {},
   "outputs": [
    {
     "data": {
      "text/plain": [
       "<AxesSubplot:ylabel='Bump'>"
      ]
     },
     "execution_count": 36,
     "metadata": {},
     "output_type": "execute_result"
    },
    {
     "data": {
      "image/png": "[encoded data removed]",
      "text/plain": [
       "<Figure size 432x288 with 1 Axes>"
      ]
     },
     "metadata": {},
     "output_type": "display_data"
    }
   ],
   "source": [
    "data['Bump'].value_counts().plot(kind='pie')"
   ]
  },
  {
   "cell_type": "markdown",
   "id": "e9a0d59b",
   "metadata": {},
   "source": [
    "Speed control mechanisms are inadequate in the recorded accidents"
   ]
  },
  {
   "cell_type": "markdown",
   "id": "e066aaea",
   "metadata": {},
   "source": [
    "## Insights\n",
    "The project analyzed various parameters on accident occurrence and the following insights have been found upon drilling the above parameters:\n",
    "\n",
    "1. The top 5 states by accidents include populous ones like California, Florida, Texas, Oregon and Virginia.\n",
    "\n",
    "2. The top 5 states by accidents include populous ones like Miami, Los Angeles, Orlando and  Dallas\n",
    "\n",
    "3. Less than 5% (4.24%) of cities have more than 1000 accidents in the period between February 2016 and December 2020.\n",
    "\n",
    "4. Over 1200 cities have had just one accident in 4years- needs further investigation.\n",
    "\n",
    "5. The majority of them have witnessed between 10–100 accidents during the period.\n",
    "\n",
    "6. Accidents by cities follow an exponentially decreasing distribution.\n",
    "\n",
    "7. Weekdays witness more accidents during morning and evening rush hours. Weekends have the peak during the afternoon.\n",
    "\n",
    "8. More accidents happen in weekdays than  weekends.\n",
    "\n",
    "8. The year-wise analysis seems to show missing data about certain months. So nothing much can be conclusively said about the overall increasing trend in the latter half of the year.\n",
    "\n",
    "9. The weather conditions seem to be “Fair”, “Clear” and “Mostly Cloudy” in most cases.\n",
    "\n",
    "10. Poor traffic management is a cause for the chunk of the accidents.\n",
    "\n",
    "11. Speed control mechanisms are inadequate in the recorded accidents"
   ]
  },
  {
   "cell_type": "markdown",
   "id": "ab3192d3",
   "metadata": {},
   "source": [
    "## Conclusion\n",
    "\n",
    "It can be said that while the percentage of accidents is low for most cities, it is important to notice that the majority of  accidents seemed to have happened due to the absence of proper traffic management mechanisms like traffic signals and bumps."
   ]
  },
  {
   "cell_type": "markdown",
   "id": "53381f12",
   "metadata": {},
   "source": [
    "## Future Scope\n",
    "\n",
    "1. Explore per-capita accident figures by adding a state and city-wise population data set.\n",
    "2. The question of missing data in certain months could be analyzed if there is some data available on the source/s of this one."
   ]
  }
 ],
 "metadata": {
  "kernelspec": {
   "display_name": "Python 3 (ipykernel)",
   "language": "python",
   "name": "python3"
  },
  "language_info": {
   "codemirror_mode": {
    "name": "ipython",
    "version": 3
   },
   "file_extension": ".py",
   "mimetype": "text/x-python",
   "name": "python",
   "nbconvert_exporter": "python",
   "pygments_lexer": "ipython3",
   "version": "3.9.12"
  }
 },
 "nbformat": 4,
 "nbformat_minor": 5
}
